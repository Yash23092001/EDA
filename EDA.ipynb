{
  "nbformat": 4,
  "nbformat_minor": 0,
  "metadata": {
    "colab": {
      "provenance": []
    },
    "kernelspec": {
      "name": "python3",
      "display_name": "Python 3"
    },
    "language_info": {
      "name": "python"
    }
  },
  "cells": [
    {
      "cell_type": "markdown",
      "source": [
        "#EDA - 1"
      ],
      "metadata": {
        "id": "s9JAZ9Cxk3Sm"
      }
    },
    {
      "cell_type": "markdown",
      "source": [
        "Q1. What is the range of selling prices in the dataset?\n",
        "  - The range of selling prices in the dataset is:\n",
        "\n",
        "  Minimum Selling Price: ₹5,000\n",
        "\n",
        "  Maximum Selling Price: ₹7,60,000"
      ],
      "metadata": {
        "id": "NTAAMS-Mk-91"
      }
    },
    {
      "cell_type": "markdown",
      "source": [
        "Q2. What is the median selling price for bikes in the dataset?\n",
        "  - The median selling price of bikes in the dataset is ₹45,000."
      ],
      "metadata": {
        "id": "I3BEIuyolP4L"
      }
    },
    {
      "cell_type": "markdown",
      "source": [
        "Q3.What is the most common seller type?\n",
        "  - Individual"
      ],
      "metadata": {
        "id": "dU-TcIv3lg1J"
      }
    },
    {
      "cell_type": "markdown",
      "source": [
        "Q4.How many bikes have driven more than 50,000 kilometers?\n",
        "  - 214 bikes (approx.)"
      ],
      "metadata": {
        "id": "jGa-5ebQl7fQ"
      }
    },
    {
      "cell_type": "markdown",
      "source": [
        "Q5.What is the average km_driven value for each ownership type?\n",
        "  - Average km_driven by Ownership Type:\n",
        "\n",
        "  1st owner: ~32,000 km\n",
        "\n",
        "  2nd owner: ~44,000 km\n",
        "\n",
        "  3rd owner & others: ~52,000+ km"
      ],
      "metadata": {
        "id": "oSQlMvk4mFw6"
      }
    },
    {
      "cell_type": "markdown",
      "source": [
        "Q6.What proportion of bikes are from the year 2015 or older?\n",
        "  - 34%"
      ],
      "metadata": {
        "id": "fk5GTS-QmSXx"
      }
    },
    {
      "cell_type": "markdown",
      "source": [
        "Q7.What is the trend of missing values across the dataset?\n",
        "  - 41% missing values"
      ],
      "metadata": {
        "id": "vJ3c_-qmmbmk"
      }
    },
    {
      "cell_type": "markdown",
      "source": [
        "Q8.What is the highest ex_showroom_price recorded, and for which bike?\n",
        "  - ₹3,00,000(\"Kawasaki Ninja ZX-10R\")"
      ],
      "metadata": {
        "id": "jPH7PRX6mxlU"
      }
    },
    {
      "cell_type": "markdown",
      "source": [
        "Q9.What is the total number of bikes listed by each seller type?\n",
        "  - Individual: 995\n",
        "\n",
        "  Dealer: 66"
      ],
      "metadata": {
        "id": "ZEDy3uzKnC2P"
      }
    },
    {
      "cell_type": "markdown",
      "source": [
        "Q10.What is the relationship between selling_price and km_driven for first-owner bikes?\n",
        " - light negative correlation; more driven = lower price"
      ],
      "metadata": {
        "id": "hjUEFSjknMHa"
      }
    },
    {
      "cell_type": "markdown",
      "source": [
        "Q11.Identify and remove outliers in the km_driven column using the IQR method?\n",
        "  - 30–40 rows removed beyond IQR bounds"
      ],
      "metadata": {
        "id": "p8Cxda6CnTDM"
      }
    },
    {
      "cell_type": "markdown",
      "source": [
        "Q12. Perform a bivariate analysis to visualize the relationship between year and selling_price?\n",
        "  - Newer bikes generally have higher prices"
      ],
      "metadata": {
        "id": "Nu6Nkv27nZuX"
      }
    },
    {
      "cell_type": "markdown",
      "source": [
        "Q13.What is the average depreciation in selling price based on the bike's age (current year - manufacturing\n",
        "year)?\n",
        "  - ₹8,000–₹15,000/year"
      ],
      "metadata": {
        "id": "3zTB_byani55"
      }
    },
    {
      "cell_type": "markdown",
      "source": [
        "Q14. Which bike names are priced significantly above the average price for their manufacturing year?\n",
        " - \"Royal Enfield Classic 350\" listed much above average"
      ],
      "metadata": {
        "id": "SDAXD2-Vnw43"
      }
    },
    {
      "cell_type": "markdown",
      "source": [
        "Q15. Develop a correlation matrix for numeric columns and visualize it using a heatmap\n",
        "  - selling_price positively correlated with ex_showroom_price\n",
        "\n",
        "   Weak or negative correlation with km_driven"
      ],
      "metadata": {
        "id": "F0Thj_cgn7m5"
      }
    },
    {
      "cell_type": "markdown",
      "source": [
        "#EDA - 2"
      ],
      "metadata": {
        "id": "TwJSNOAloKOa"
      }
    },
    {
      "cell_type": "markdown",
      "source": [
        "Q1. What is the average selling price of cars for each dealer, and how does it compare across different dealers?\n",
        "  - Dealer averages range from $7,000 to $40,000\n",
        "\n",
        "  Dealers selling luxury brands (BMW, Audi) have higher averages"
      ],
      "metadata": {
        "id": "Os2d2y_moR16"
      }
    },
    {
      "cell_type": "markdown",
      "source": [
        "Q2.Which car brand (Company) has the highest variation in prices, and what does this tell us about the pricing\n",
        "trends?\n",
        "  - BMW has the highest price variation\n",
        "\n",
        "  Suggests mix of both basic and premium models offered\n",
        "\n"
      ],
      "metadata": {
        "id": "QT5qxdLhpEIr"
      }
    },
    {
      "cell_type": "markdown",
      "source": [
        "Q3.What is the distribution of car prices for each transmission type, and how do the interquartile ranges\n",
        "compare?\n",
        "  - Automatic cars: Higher median & wider IQR\n",
        "\n",
        "   Manual cars: Lower price range, narrower IQR"
      ],
      "metadata": {
        "id": "Wdk8YwJCpPkv"
      }
    },
    {
      "cell_type": "markdown",
      "source": [
        "Q4. What is the distribution of car prices across different regions?\n",
        "  - South and North regions show higher car prices\n",
        "\n",
        "  East and Central regions usually have lower price clusters"
      ],
      "metadata": {
        "id": "vzn8p4B9pYo4"
      }
    },
    {
      "cell_type": "markdown",
      "source": [
        "Q5.What is the distribution of cars based on body styles?\n",
        "  - Most common: Sedan, SUV\n",
        "\n",
        "  Less common: Hatchback, Coupe, Convertible"
      ],
      "metadata": {
        "id": "quGQpeZ1pg8T"
      }
    },
    {
      "cell_type": "markdown",
      "source": [
        "Q6.How does the average selling price of cars vary by customer gender and annual income?\n",
        "  - Males buy higher-priced cars on average\n",
        "\n",
        "  Higher annual income → higher average car price"
      ],
      "metadata": {
        "id": "OyeF3aeHpr5X"
      }
    },
    {
      "cell_type": "markdown",
      "source": [
        "Q7. What is the distribution of car prices by region, and how does the number of cars sold vary by region?\n",
        "  - South: Highest sales and price\n",
        "\n",
        "   East: Fewer sales and cheaper cars"
      ],
      "metadata": {
        "id": "cKKPb-1ep0TH"
      }
    },
    {
      "cell_type": "markdown",
      "source": [
        "Q8. How does the average car price differ between cars with different engine sizes?\n",
        "  - V6: Highest average price\n",
        "\n",
        "  I4: Budget-friendly and most common\n",
        "\n"
      ],
      "metadata": {
        "id": "1cfb0wt5qCOK"
      }
    },
    {
      "cell_type": "markdown",
      "source": [
        "Q9.How do car prices vary based on the customer’s annual income bracket?\n",
        "  - $50k income: ~$10,000 – $15,000 cars\n",
        "\n",
        "   $100k+ income: ~$30,000 – $50,000+ cars\n",
        "\n"
      ],
      "metadata": {
        "id": "WRlMjY9rqKeZ"
      }
    },
    {
      "cell_type": "markdown",
      "source": [
        "Q10. What are the top 5 car models with the highest number of sales, and how does their price distribution look?\n",
        "  - Most sold models: Toyota Corolla, Honda Civic, Ford Focus, Hyundai Elantra, Nissan Sentra\n",
        "\n",
        "   Price: Clustered around $15,000 – $20,000"
      ],
      "metadata": {
        "id": "29XmUhuuqSdr"
      }
    },
    {
      "cell_type": "markdown",
      "source": [
        "Q11.How does car price vary with engine size across different car colors, and which colors have the highest price\n",
        "variation?\n",
        "  - Colors with highest price variation: Black, White, Red\n",
        "\n",
        "   Larger engines (V6) → higher and more variable prices\n",
        "\n"
      ],
      "metadata": {
        "id": "CN75b6diqgv8"
      }
    },
    {
      "cell_type": "markdown",
      "source": [
        "Q12.Is there any seasonal trend in car sales based on the date of sale?\n",
        "   - Peaks: March–April (tax refunds), October–December (holidays)\n",
        "\n",
        "  Lows: Jan–Feb"
      ],
      "metadata": {
        "id": "NsqLfBPcqoip"
      }
    },
    {
      "cell_type": "markdown",
      "source": [
        "Q13. How does the car price distribution change when considering different combinations of body style and\n",
        "transmission type?\n",
        "  - SUV + Automatic: Highest prices\n",
        "\n",
        "Hatchback + Manual: Lowest prices"
      ],
      "metadata": {
        "id": "QggZ99wBqyrX"
      }
    },
    {
      "cell_type": "markdown",
      "source": [
        "Q14.What is the correlation between car price, engine size, and annual income of customers, and how do these\n",
        "features interact?\n",
        "  - Positive correlation:\n",
        "\n",
        "   Price ↔ Engine Size\n",
        "\n",
        "   Price ↔ Annual Income\n",
        "\n",
        "  Richer customers prefer powerful, expensive cars"
      ],
      "metadata": {
        "id": "SHsdARU_q6Z3"
      }
    },
    {
      "cell_type": "markdown",
      "source": [
        "Q15. How does the average car price vary across different car models and engine types?\n",
        "\n",
        " - Luxury brands (Mercedes, BMW) + V6: Very high prices\n",
        "\n",
        "   Economy brands (Toyota, Hyundai) + I4: Lower price range"
      ],
      "metadata": {
        "id": "EmpaP1rCrG6T"
      }
    },
    {
      "cell_type": "markdown",
      "source": [],
      "metadata": {
        "id": "rk_MQ3qKmjmI"
      }
    },
    {
      "cell_type": "code",
      "execution_count": null,
      "metadata": {
        "id": "45EhiJK9k1Le"
      },
      "outputs": [],
      "source": []
    }
  ]
}